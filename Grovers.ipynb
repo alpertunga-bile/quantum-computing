{
 "cells": [
  {
   "cell_type": "code",
   "execution_count": 1,
   "id": "6177708c",
   "metadata": {},
   "outputs": [],
   "source": [
    "import numpy as np\n",
    "# Importing standard Qiskit libraries\n",
    "from qiskit import QuantumCircuit, transpile, Aer, IBMQ\n",
    "from qiskit.tools.jupyter import *\n",
    "from qiskit.visualization import *\n",
    "from ibm_quantum_widgets import *\n",
    "\n",
    "from qiskit import *\n",
    "from qiskit.tools.visualization import plot_histogram\n",
    "\n",
    "# Loading your IBM Quantum account(s)\n",
    "provider = IBMQ.load_account()"
   ]
  },
  {
   "cell_type": "code",
   "execution_count": 2,
   "id": "f7e58ea2",
   "metadata": {},
   "outputs": [
    {
     "data": {
      "text/plain": [
       "[0, 11, 19, 3, 4, 17, 15, 6, 1, 16, 2, 14, 7, 5, 12, 9, 18, 8, 10, 13]"
      ]
     },
     "execution_count": 2,
     "metadata": {},
     "output_type": "execute_result"
    }
   ],
   "source": [
    "myList = [i for i in range(0, 20)]\n",
    "np.random.shuffle(myList)\n",
    "myList"
   ]
  },
  {
   "cell_type": "code",
   "execution_count": 3,
   "id": "ab585eb3",
   "metadata": {},
   "outputs": [],
   "source": [
    "import random\n",
    "\n",
    "wantedNumber = random.randint(0, 20)\n",
    "\n",
    "def oracle(number):\n",
    "    if number == wantedNumber:\n",
    "        response = True\n",
    "    else:\n",
    "        response = False\n",
    "    return response"
   ]
  },
  {
   "cell_type": "code",
   "execution_count": 4,
   "id": "71d7d003",
   "metadata": {},
   "outputs": [
    {
     "name": "stdout",
     "output_type": "stream",
     "text": [
      "6 number in index: 7\n",
      "execution count: 8\n"
     ]
    }
   ],
   "source": [
    "for index, number in enumerate(myList):\n",
    "    if oracle(number) is True:\n",
    "        print(f\"{wantedNumber} number in index: {index}\")\n",
    "        print(f\"execution count: {index + 1}\")\n",
    "        break"
   ]
  },
  {
   "cell_type": "code",
   "execution_count": 5,
   "id": "f6ad10d7",
   "metadata": {},
   "outputs": [],
   "source": [
    "# Quantum\n",
    "# Wanted 11"
   ]
  },
  {
   "cell_type": "code",
   "execution_count": 6,
   "id": "4b460ec2",
   "metadata": {},
   "outputs": [
    {
     "data": {
      "image/png": "[encoded data removed]",
      "text/plain": [
       "<Figure size 146.652x144.48 with 1 Axes>"
      ]
     },
     "execution_count": 6,
     "metadata": {},
     "output_type": "execute_result"
    }
   ],
   "source": [
    "oracleCircuit = QuantumCircuit(2,name=\"oracleCircuit\")\n",
    "\n",
    "oracleCircuit.cz(0, 1)\n",
    "oracleCircuit.to_gate()\n",
    "oracleCircuit.draw()"
   ]
  },
  {
   "cell_type": "code",
   "execution_count": 7,
   "id": "b1c2ce53",
   "metadata": {},
   "outputs": [
    {
     "data": {
      "image/png": "[encoded data removed]",
      "text/plain": [
       "<Figure size 327.252x204.68 with 1 Axes>"
      ]
     },
     "execution_count": 7,
     "metadata": {},
     "output_type": "execute_result"
    }
   ],
   "source": [
    "mainCircuit = QuantumCircuit(2, 2)\n",
    "mainCircuit.h([0, 1])\n",
    "mainCircuit.append(oracleCircuit, [0,1])\n",
    "mainCircuit.draw()"
   ]
  },
  {
   "cell_type": "code",
   "execution_count": 8,
   "id": "425db814",
   "metadata": {},
   "outputs": [
    {
     "data": {
      "image/png": "[encoded data removed]",
      "text/plain": [
       "<Figure size 327.252x144.48 with 1 Axes>"
      ]
     },
     "execution_count": 8,
     "metadata": {},
     "output_type": "execute_result"
    }
   ],
   "source": [
    "reflectionCircuit = QuantumCircuit(2, name=\"reflectionCircuit\")\n",
    "\n",
    "reflectionCircuit.h([0, 1])\n",
    "reflectionCircuit.z([0, 1])\n",
    "reflectionCircuit.cz(0, 1)\n",
    "reflectionCircuit.h([0, 1])\n",
    "\n",
    "reflectionCircuit.to_gate()\n",
    "reflectionCircuit.draw()"
   ]
  },
  {
   "cell_type": "code",
   "execution_count": 10,
   "id": "2a66a89a",
   "metadata": {},
   "outputs": [
    {
     "data": {
      "image/png": "[encoded data removed]",
      "text/plain": [
       "<Figure size 628.252x204.68 with 1 Axes>"
      ]
     },
     "execution_count": 10,
     "metadata": {},
     "output_type": "execute_result"
    }
   ],
   "source": [
    "mainCircuit.append(reflectionCircuit, [0, 1])\n",
    "mainCircuit.measure([0, 1], [0, 1])\n",
    "mainCircuit.draw()"
   ]
  },
  {
   "cell_type": "code",
   "execution_count": 11,
   "id": "cbce5284",
   "metadata": {},
   "outputs": [
    {
     "data": {
      "image/png": "[encoded data removed]",
      "text/plain": [
       "<Figure size 504x360 with 1 Axes>"
      ]
     },
     "execution_count": 11,
     "metadata": {},
     "output_type": "execute_result"
    }
   ],
   "source": [
    "simulator = Aer.get_backend(\"qasm_simulator\")\n",
    "result = execute(mainCircuit, backend=simulator, shots=1024).result()\n",
    "plot_histogram([result.get_counts(mainCircuit)])"
   ]
  },
  {
   "cell_type": "code",
   "execution_count": 12,
   "id": "e055e091",
   "metadata": {},
   "outputs": [],
   "source": [
    "# Dinner Party - Using Aqua"
   ]
  },
  {
   "cell_type": "code",
   "execution_count": 14,
   "id": "dfb0492f",
   "metadata": {},
   "outputs": [],
   "source": [
    "from qiskit.aqua.algorithms import Grover\n",
    "from qiskit.aqua.components.oracles import LogicalExpressionOracle"
   ]
  },
  {
   "cell_type": "code",
   "execution_count": 21,
   "id": "0d1ab064",
   "metadata": {},
   "outputs": [],
   "source": [
    "logicalExpressions = '((Tom & Jerry) | (Bob & James)) & ~(Jerry & James)'"
   ]
  },
  {
   "cell_type": "code",
   "execution_count": 22,
   "id": "1c49a5e9",
   "metadata": {},
   "outputs": [],
   "source": [
    "groverAlgorithm = Grover(LogicalExpressionOracle(logicalExpressions))"
   ]
  },
  {
   "cell_type": "code",
   "execution_count": 24,
   "id": "000e15c5",
   "metadata": {},
   "outputs": [
    {
     "data": {
      "image/png": "[encoded data removed]",
      "text/plain": [
       "<Figure size 504x360 with 1 Axes>"
      ]
     },
     "execution_count": 24,
     "metadata": {},
     "output_type": "execute_result"
    }
   ],
   "source": [
    "simulator = Aer.get_backend(\"qasm_simulator\")\n",
    "result = groverAlgorithm.run(simulator)\n",
    "plot_histogram(result[\"measurement\"])\n",
    "# q0 = Bob q1 = James q2 = Jerry q3 = Tom"
   ]
  },
  {
   "cell_type": "code",
   "execution_count": null,
   "id": "2a47cb5a",
   "metadata": {},
   "outputs": [],
   "source": []
  }
 ],
 "metadata": {
  "kernelspec": {
   "display_name": "Python 3",
   "language": "python",
   "name": "python3"
  },
  "language_info": {
   "codemirror_mode": {
    "name": "ipython",
    "version": 3
   },
   "file_extension": ".py",
   "mimetype": "text/x-python",
   "name": "python",
   "nbconvert_exporter": "python",
   "pygments_lexer": "ipython3",
   "version": "3.8.8"
  }
 },
 "nbformat": 4,
 "nbformat_minor": 5
}
